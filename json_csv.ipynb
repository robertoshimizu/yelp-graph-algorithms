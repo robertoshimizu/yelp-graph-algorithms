{
 "cells": [
  {
   "cell_type": "code",
   "execution_count": 1,
   "metadata": {},
   "outputs": [],
   "source": [
    "import csv\n",
    "import json\n",
    "import os\n",
    "import string\n",
    "import logging\n",
    "from multiprocessing import Process\n",
    "import time"
   ]
  },
  {
   "cell_type": "code",
   "execution_count": 2,
   "metadata": {},
   "outputs": [],
   "source": [
    "def processa_item(name):\n",
    "    #logging.info(\"Thread %s: starting\", name)\n",
    "    cara = item[\"friends\"].replace(', ','')\n",
    "    friends = [cara[idx:idx+22] for idx,val in enumerate(cara) if idx%22 == 0]\n",
    "    for friend in friends:\n",
    "        print([item[\"user_id\"], friend])\n",
    "    #logging.info(\"Thread %s: finishing\", name)"
   ]
  },
  {
   "cell_type": "code",
   "execution_count": 3,
   "metadata": {},
   "outputs": [
    {
     "name": "stdout",
     "output_type": "stream",
     "text": [
      "['l6BmjZMeQD3rDxWUbiAiow', 'c78V-rj8NQcQjOI8KP3UEA']\n",
      "['l6BmjZMeQD3rDxWUbiAiow', '5HwGl2UyYbaRq8aD6YC-fA']\n",
      "['l6BmjZMeQD3rDxWUbiAiow', 'ZK228WMcCKLo5thcjD7rdw']\n",
      "['l6BmjZMeQD3rDxWUbiAiow', 'iTf8wojwfm0NOi7dOiz3Nw']\n",
      "['l6BmjZMeQD3rDxWUbiAiow', 'btYRxQYNJjpecflNHtFH0A']\n",
      "['l6BmjZMeQD3rDxWUbiAiow', 'Kgo42FzpW_dXFgDKoewbtg']\n",
      "['l6BmjZMeQD3rDxWUbiAiow', 'MNk_1Q_dqOY3xxHZKeO8VQ']\n",
      "['l6BmjZMeQD3rDxWUbiAiow', 'AlwD504T9k0m5lkg3k5g6Q']\n",
      "['4XChL029mKr5hydo79Ljxg', 'kEBTgDvFX754S68FllfCaA']\n",
      "['4XChL029mKr5hydo79Ljxg', 'aB2DynOxNOJK9st2ZeGTPg']\n",
      "['4XChL029mKr5hydo79Ljxg', 'h_n5JP28sI3u7ye8og7JvQ']\n",
      "['4XChL029mKr5hydo79Ljxg', 'TMSrplMAaTf3QOw4zMH9Wg']\n",
      "['4XChL029mKr5hydo79Ljxg', 'cquG1TemWd-ES12WmQlOBg']\n",
      "['4XChL029mKr5hydo79Ljxg', '_d9mCuLwfI-jkpgEzpb9lg']\n",
      "['4XChL029mKr5hydo79Ljxg', 'ioqRCUtrzZi6Ou5b70JUrg']\n",
      "['4XChL029mKr5hydo79Ljxg', 'vIsEJsMbPGOVsSp04cc6EQ']\n",
      "['4XChL029mKr5hydo79Ljxg', 'loRojkU6DPq5E7A-rHLtAQ']\n",
      "['4XChL029mKr5hydo79Ljxg', '_l3m6-BkMY1NTqMZsiRsqg']\n",
      "['4XChL029mKr5hydo79Ljxg', 'B1C4Eohkv6syASDvuBUI9g']\n",
      "['bc8C_eETBWL0olvFSJJd0w', '4N-HU_T32hLENLntsNKNBg']\n",
      "['bc8C_eETBWL0olvFSJJd0w', 'pSY2vwWLgWfGVAAiKQzMng']\n",
      "['bc8C_eETBWL0olvFSJJd0w', 'lwhksSpgIyeYZor_HlN93w']\n",
      "['bc8C_eETBWL0olvFSJJd0w', 'v281gE-nk3jozr_5hWFAug']\n",
      "['bc8C_eETBWL0olvFSJJd0w', 'V7XFwm0baX37HRIduHmrXw']\n",
      "['bc8C_eETBWL0olvFSJJd0w', 'haSh72Q0MsQZUpWPeVgp0Q']\n",
      "['bc8C_eETBWL0olvFSJJd0w', 'bLbSNkLggFnqwNNzzq-Ijw']\n",
      "['bc8C_eETBWL0olvFSJJd0w', 'EKnCY7Tfxts4dexPrz63OQ']\n",
      "['bc8C_eETBWL0olvFSJJd0w', 'u_wqt9RshdZsoj8ikLqoEQ']\n",
      "['bc8C_eETBWL0olvFSJJd0w', 'J8FKQM1yvbwoKcuWRNh1yw']\n",
      "['bc8C_eETBWL0olvFSJJd0w', 'S9tC7Bp2sOLF_nwH-ksiIg']\n",
      "['bc8C_eETBWL0olvFSJJd0w', 'vNGs6_DP7ZbtPwX7finVIQ']\n",
      "['bc8C_eETBWL0olvFSJJd0w', '1IQ_d1RuMj8iIpcF2CDohA']\n",
      "['bc8C_eETBWL0olvFSJJd0w', 'WJqVJqhh7vNX51xLHEMEoQ']\n",
      "['bc8C_eETBWL0olvFSJJd0w', '5OllWsrKJsYo3XQK6siRKA']\n",
      "['dD0gZpBctWGdWo9WlGuhlA', 'RZ6wS38wnlXyj-OOdTzBxA']\n",
      "['dD0gZpBctWGdWo9WlGuhlA', 'l5jxZh1KsgI8rMunm-GN6A']\n",
      "['dD0gZpBctWGdWo9WlGuhlA', 'vfXxkFKENdjKm4skT40qGQ']\n",
      "['dD0gZpBctWGdWo9WlGuhlA', 'vd0p-zAX2I19TKMhq4g0sw']\n",
      "['dD0gZpBctWGdWo9WlGuhlA', 'PfyoRotybB7OJV6g9cn5GQ']\n",
      "['dD0gZpBctWGdWo9WlGuhlA', 'Haq7wuezl_rje3BnWbE2Yw']\n",
      "['dD0gZpBctWGdWo9WlGuhlA', 'l6BmjZMeQD3rDxWUbiAiow']\n",
      "['dD0gZpBctWGdWo9WlGuhlA', 'bc8C_eETBWL0olvFSJJd0w']\n",
      "['dD0gZpBctWGdWo9WlGuhlA', 'jWx4Leb_a1u63uJowEn62A']\n"
     ]
    },
    {
     "ename": "JSONDecodeError",
     "evalue": "Expecting value: line 2 column 1 (char 1)",
     "output_type": "error",
     "traceback": [
      "\u001b[0;31m---------------------------------------------------------------------------\u001b[0m",
      "\u001b[0;31mJSONDecodeError\u001b[0m                           Traceback (most recent call last)",
      "\u001b[0;32m<ipython-input-3-cbcee5ee0996>\u001b[0m in \u001b[0;36m<module>\u001b[0;34m\u001b[0m\n\u001b[1;32m      5\u001b[0m     \u001b[0;31m#user_user_writer = csv.writer(user_user_csv)\u001b[0m\u001b[0;34m\u001b[0m\u001b[0;34m\u001b[0m\u001b[0;34m\u001b[0m\u001b[0m\n\u001b[1;32m      6\u001b[0m     \u001b[0;32mfor\u001b[0m \u001b[0mline\u001b[0m \u001b[0;32min\u001b[0m \u001b[0muser_json\u001b[0m\u001b[0;34m.\u001b[0m\u001b[0mreadlines\u001b[0m\u001b[0;34m(\u001b[0m\u001b[0;34m)\u001b[0m\u001b[0;34m:\u001b[0m\u001b[0;34m\u001b[0m\u001b[0;34m\u001b[0m\u001b[0m\n\u001b[0;32m----> 7\u001b[0;31m         \u001b[0mitem\u001b[0m \u001b[0;34m=\u001b[0m \u001b[0mjson\u001b[0m\u001b[0;34m.\u001b[0m\u001b[0mloads\u001b[0m\u001b[0;34m(\u001b[0m\u001b[0mline\u001b[0m\u001b[0;34m)\u001b[0m\u001b[0;34m\u001b[0m\u001b[0;34m\u001b[0m\u001b[0m\n\u001b[0m\u001b[1;32m      8\u001b[0m         \u001b[0mp\u001b[0m\u001b[0;34m=\u001b[0m\u001b[0mProcess\u001b[0m\u001b[0;34m(\u001b[0m\u001b[0mtarget\u001b[0m\u001b[0;34m=\u001b[0m\u001b[0mprocessa_item\u001b[0m\u001b[0;34m,\u001b[0m \u001b[0margs\u001b[0m\u001b[0;34m=\u001b[0m\u001b[0;34m(\u001b[0m\u001b[0mitem\u001b[0m\u001b[0;34m,\u001b[0m\u001b[0;34m)\u001b[0m\u001b[0;34m)\u001b[0m\u001b[0;34m\u001b[0m\u001b[0;34m\u001b[0m\u001b[0m\n\u001b[1;32m      9\u001b[0m         \u001b[0;31m#logging.info(\"Main    : before running thread\")\u001b[0m\u001b[0;34m\u001b[0m\u001b[0;34m\u001b[0m\u001b[0;34m\u001b[0m\u001b[0m\n",
      "\u001b[0;32m~/miniconda3/envs/ML/lib/python3.7/json/__init__.py\u001b[0m in \u001b[0;36mloads\u001b[0;34m(s, encoding, cls, object_hook, parse_float, parse_int, parse_constant, object_pairs_hook, **kw)\u001b[0m\n\u001b[1;32m    346\u001b[0m             \u001b[0mparse_int\u001b[0m \u001b[0;32mis\u001b[0m \u001b[0;32mNone\u001b[0m \u001b[0;32mand\u001b[0m \u001b[0mparse_float\u001b[0m \u001b[0;32mis\u001b[0m \u001b[0;32mNone\u001b[0m \u001b[0;32mand\u001b[0m\u001b[0;34m\u001b[0m\u001b[0;34m\u001b[0m\u001b[0m\n\u001b[1;32m    347\u001b[0m             parse_constant is None and object_pairs_hook is None and not kw):\n\u001b[0;32m--> 348\u001b[0;31m         \u001b[0;32mreturn\u001b[0m \u001b[0m_default_decoder\u001b[0m\u001b[0;34m.\u001b[0m\u001b[0mdecode\u001b[0m\u001b[0;34m(\u001b[0m\u001b[0ms\u001b[0m\u001b[0;34m)\u001b[0m\u001b[0;34m\u001b[0m\u001b[0;34m\u001b[0m\u001b[0m\n\u001b[0m\u001b[1;32m    349\u001b[0m     \u001b[0;32mif\u001b[0m \u001b[0mcls\u001b[0m \u001b[0;32mis\u001b[0m \u001b[0;32mNone\u001b[0m\u001b[0;34m:\u001b[0m\u001b[0;34m\u001b[0m\u001b[0;34m\u001b[0m\u001b[0m\n\u001b[1;32m    350\u001b[0m         \u001b[0mcls\u001b[0m \u001b[0;34m=\u001b[0m \u001b[0mJSONDecoder\u001b[0m\u001b[0;34m\u001b[0m\u001b[0;34m\u001b[0m\u001b[0m\n",
      "\u001b[0;32m~/miniconda3/envs/ML/lib/python3.7/json/decoder.py\u001b[0m in \u001b[0;36mdecode\u001b[0;34m(self, s, _w)\u001b[0m\n\u001b[1;32m    335\u001b[0m \u001b[0;34m\u001b[0m\u001b[0m\n\u001b[1;32m    336\u001b[0m         \"\"\"\n\u001b[0;32m--> 337\u001b[0;31m         \u001b[0mobj\u001b[0m\u001b[0;34m,\u001b[0m \u001b[0mend\u001b[0m \u001b[0;34m=\u001b[0m \u001b[0mself\u001b[0m\u001b[0;34m.\u001b[0m\u001b[0mraw_decode\u001b[0m\u001b[0;34m(\u001b[0m\u001b[0ms\u001b[0m\u001b[0;34m,\u001b[0m \u001b[0midx\u001b[0m\u001b[0;34m=\u001b[0m\u001b[0m_w\u001b[0m\u001b[0;34m(\u001b[0m\u001b[0ms\u001b[0m\u001b[0;34m,\u001b[0m \u001b[0;36m0\u001b[0m\u001b[0;34m)\u001b[0m\u001b[0;34m.\u001b[0m\u001b[0mend\u001b[0m\u001b[0;34m(\u001b[0m\u001b[0;34m)\u001b[0m\u001b[0;34m)\u001b[0m\u001b[0;34m\u001b[0m\u001b[0;34m\u001b[0m\u001b[0m\n\u001b[0m\u001b[1;32m    338\u001b[0m         \u001b[0mend\u001b[0m \u001b[0;34m=\u001b[0m \u001b[0m_w\u001b[0m\u001b[0;34m(\u001b[0m\u001b[0ms\u001b[0m\u001b[0;34m,\u001b[0m \u001b[0mend\u001b[0m\u001b[0;34m)\u001b[0m\u001b[0;34m.\u001b[0m\u001b[0mend\u001b[0m\u001b[0;34m(\u001b[0m\u001b[0;34m)\u001b[0m\u001b[0;34m\u001b[0m\u001b[0;34m\u001b[0m\u001b[0m\n\u001b[1;32m    339\u001b[0m         \u001b[0;32mif\u001b[0m \u001b[0mend\u001b[0m \u001b[0;34m!=\u001b[0m \u001b[0mlen\u001b[0m\u001b[0;34m(\u001b[0m\u001b[0ms\u001b[0m\u001b[0;34m)\u001b[0m\u001b[0;34m:\u001b[0m\u001b[0;34m\u001b[0m\u001b[0;34m\u001b[0m\u001b[0m\n",
      "\u001b[0;32m~/miniconda3/envs/ML/lib/python3.7/json/decoder.py\u001b[0m in \u001b[0;36mraw_decode\u001b[0;34m(self, s, idx)\u001b[0m\n\u001b[1;32m    353\u001b[0m             \u001b[0mobj\u001b[0m\u001b[0;34m,\u001b[0m \u001b[0mend\u001b[0m \u001b[0;34m=\u001b[0m \u001b[0mself\u001b[0m\u001b[0;34m.\u001b[0m\u001b[0mscan_once\u001b[0m\u001b[0;34m(\u001b[0m\u001b[0ms\u001b[0m\u001b[0;34m,\u001b[0m \u001b[0midx\u001b[0m\u001b[0;34m)\u001b[0m\u001b[0;34m\u001b[0m\u001b[0;34m\u001b[0m\u001b[0m\n\u001b[1;32m    354\u001b[0m         \u001b[0;32mexcept\u001b[0m \u001b[0mStopIteration\u001b[0m \u001b[0;32mas\u001b[0m \u001b[0merr\u001b[0m\u001b[0;34m:\u001b[0m\u001b[0;34m\u001b[0m\u001b[0;34m\u001b[0m\u001b[0m\n\u001b[0;32m--> 355\u001b[0;31m             \u001b[0;32mraise\u001b[0m \u001b[0mJSONDecodeError\u001b[0m\u001b[0;34m(\u001b[0m\u001b[0;34m\"Expecting value\"\u001b[0m\u001b[0;34m,\u001b[0m \u001b[0ms\u001b[0m\u001b[0;34m,\u001b[0m \u001b[0merr\u001b[0m\u001b[0;34m.\u001b[0m\u001b[0mvalue\u001b[0m\u001b[0;34m)\u001b[0m \u001b[0;32mfrom\u001b[0m \u001b[0;32mNone\u001b[0m\u001b[0;34m\u001b[0m\u001b[0;34m\u001b[0m\u001b[0m\n\u001b[0m\u001b[1;32m    356\u001b[0m         \u001b[0;32mreturn\u001b[0m \u001b[0mobj\u001b[0m\u001b[0;34m,\u001b[0m \u001b[0mend\u001b[0m\u001b[0;34m\u001b[0m\u001b[0;34m\u001b[0m\u001b[0m\n",
      "\u001b[0;31mJSONDecodeError\u001b[0m: Expecting value: line 2 column 1 (char 1)"
     ]
    }
   ],
   "source": [
    "#logging.basicConfig(format=format, level=logging.INFO,\n",
    "                        #datefmt=\"%H:%M:%S\")\n",
    "#logging.info(\"Main    : before creating thread\")\n",
    "with open(\"dataset/user_teste.json\") as user_json:\n",
    "    #user_user_writer = csv.writer(user_user_csv)\n",
    "    for line in user_json.readlines():\n",
    "        item = json.loads(line)\n",
    "        p=Process(target=processa_item, args=(item,))\n",
    "        #logging.info(\"Main    : before running thread\")\n",
    "        p.start()\n",
    "        #logging.info(\"Main    : wait for the thread to finish\")\n",
    "        p.join()\n",
    "    #logging.info(\"Main    : all done\")\n",
    "p.close()\n",
    "        \n",
    "        \n",
    "                \n"
   ]
  },
  {
   "cell_type": "code",
   "execution_count": null,
   "metadata": {},
   "outputs": [],
   "source": []
  }
 ],
 "metadata": {
  "kernelspec": {
   "display_name": "Python 3",
   "language": "python",
   "name": "python3"
  },
  "language_info": {
   "codemirror_mode": {
    "name": "ipython",
    "version": 3
   },
   "file_extension": ".py",
   "mimetype": "text/x-python",
   "name": "python",
   "nbconvert_exporter": "python",
   "pygments_lexer": "ipython3",
   "version": "3.7.2"
  }
 },
 "nbformat": 4,
 "nbformat_minor": 2
}
